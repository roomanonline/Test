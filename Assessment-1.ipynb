{
 "cells": [
  {
   "cell_type": "markdown",
   "metadata": {},
   "source": [
    "# Happy Coding!!!"
   ]
  },
  {
   "cell_type": "markdown",
   "metadata": {},
   "source": [
    "##### 1) Write a program that splits the sentence and arrange them into descending order based on their length and then in chronological order. \n",
    "\n",
    "<b>Sample Input:</b>\n",
    "\n",
    "jack and jill went up the hill\n",
    "\n",
    "<b>Sample output:</b>\n",
    "    \n",
    "Hill\n",
    "\n",
    "Jack\n",
    "\n",
    "Jill\n",
    "\n",
    "went\n",
    "\n",
    "and\n",
    "\n",
    "the\n",
    "\n",
    "up\n"
   ]
  },
  {
   "cell_type": "code",
   "execution_count": null,
   "metadata": {},
   "outputs": [],
   "source": []
  },
  {
   "cell_type": "markdown",
   "metadata": {},
   "source": [
    "###### 2) Print the minimum number of steps that elephant needs to make to get from point 0 to point x.\n",
    "\n",
    "<b>sample input\n",
    "\n",
    "5\t\n",
    "\n",
    "sample output\n",
    "\n",
    "1\t\n",
    "\n",
    "sample input\n",
    "\n",
    "12\t\n",
    "\n",
    "sample output\n",
    "\n",
    "3\t\n",
    "\n",
    "Note:</b>\n",
    "\n",
    "In the first sample the elephant needs to make one step of length 5 to reach the point x.\n",
    "In the second sample the elephant can get to point x if he moves by 3, 5 and 4. There are other ways to get the optimal answer but the elephant cannot reach x in less than three moves.\n",
    "George has recently entered the BSUCP (Berland State University for Cool Programmers). George has a friend Alex who has also entered the university. Now they are moving into a dormitory.\n",
    "George and Alex want to live in the same room. The dormitory has n rooms in total. At the moment the i-th room has p i people living in it and the room can accommodate q i people in total ( p i ≤ q i). Your task is to count how many rooms has free place for both George and Alex. Input\n",
    "The first line contains a single integer n (1 ≤ n ≤ 100) — the number of rooms.\n",
    "The i-th of the next n lines contains two integers p i and q i (0 ≤ p i ≤ q i ≤ 100) — the number of people who already live in the i-th room and the room's capacity.\n"
   ]
  },
  {
   "cell_type": "code",
   "execution_count": null,
   "metadata": {},
   "outputs": [],
   "source": []
  }
 ],
 "metadata": {
  "kernelspec": {
   "display_name": "Java",
   "language": "java",
   "name": "java"
  },
  "language_info": {
   "codemirror_mode": "java",
   "file_extension": ".jshell",
   "mimetype": "text/x-java-source",
   "name": "Java",
   "pygments_lexer": "java",
   "version": "11.0.8+10-post-Ubuntu-0ubuntu118.04.1"
  }
 },
 "nbformat": 4,
 "nbformat_minor": 4
}
