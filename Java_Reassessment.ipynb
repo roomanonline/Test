{
 "cells": [
  {
   "cell_type": "markdown",
   "metadata": {},
   "source": [
    "# Important Instructions:"
   ]
  },
  {
   "cell_type": "markdown",
   "metadata": {},
   "source": [
    "# 1)When coding in java using jupyter notebooks there is no need to provide a main method as it is automatically provided."
   ]
  },
  {
   "cell_type": "markdown",
   "metadata": {},
   "source": [
    "# 2)Code written within a cell is automatically placed within the main method unless you explicitly place it within another class"
   ]
  },
  {
   "cell_type": "markdown",
   "metadata": {},
   "source": [
    "### Question 1:"
   ]
  },
  {
   "cell_type": "markdown",
   "metadata": {},
   "source": [
    "###### Write a java program which accepts a character as a input and dispalys its corresponding ASCII value.\n",
    "\n",
    "Sample Input : Enter a character : $ \n",
    "\n",
    "Sample Output : 36"
   ]
  },
  {
   "cell_type": "code",
   "execution_count": null,
   "metadata": {},
   "outputs": [],
   "source": []
  },
  {
   "cell_type": "markdown",
   "metadata": {},
   "source": [
    "### Question 2:"
   ]
  },
  {
   "cell_type": "markdown",
   "metadata": {},
   "source": [
    "###### Create a class named 'Rectangle' with two data members 'length' and 'breadth' and two methods to print the area and perimeter of the rectangle respectively. Its constructor having parameters for length and breadth is used to initialize length and breadth of the rectangle. Let class 'Square' inherit the 'Rectangle' class with its constructor having a parameter for its side (suppose s) calling the constructor of its parent class as 'super(s,s)'. Print the area and perimeter of a rectangle and a square.\n",
    "\n",
    "Sample Output:\n",
    "\n",
    "Area of rectangle is....\n",
    "\n",
    "Enter length of rectangle\n",
    "\n",
    "4\n",
    "\n",
    "Enter breadth of rectangle\n",
    "\n",
    "5\n",
    "\n",
    "Area of rectangle is....\n",
    "\n",
    "20\n",
    "\n",
    "perimeter of rectangle is....\n",
    "\n",
    "18\n",
    "\n",
    "Area of square is....\n",
    "\n",
    "16\n",
    "\n",
    "perimeter of square is....\n",
    "\n",
    "16\n",
    "\n"
   ]
  },
  {
   "cell_type": "code",
   "execution_count": null,
   "metadata": {},
   "outputs": [],
   "source": []
  },
  {
   "cell_type": "markdown",
   "metadata": {},
   "source": [
    "###### 3.Define a class named DuplicateFinder. In the class an integer array of N elements is created and N integers are read into it from keyboard. Print all the elements of the array and its duplicate elements along with their frequency of occurrence are printed.\n",
    "\n",
    "Sample Input:\n",
    "\n",
    "Enter the limit : 10\n",
    "\n",
    "Enter num 1 : 4 \n",
    "Enter num 2 : 7\n",
    "…\n",
    "Enter num 5 : 7\n",
    "…\n",
    "Enter num 10 : 45\n",
    "\n",
    "Sample output:\n",
    "\n",
    "Elements:45,7,....,45\n",
    "\n",
    "Duplicate Element      Frequency of Occurrence\n",
    "     7                          2\n",
    "    45                          2"
   ]
  },
  {
   "cell_type": "code",
   "execution_count": null,
   "metadata": {},
   "outputs": [],
   "source": []
  }
 ],
 "metadata": {
  "kernelspec": {
   "display_name": "Java",
   "language": "java",
   "name": "java"
  },
  "language_info": {
   "codemirror_mode": "java",
   "file_extension": ".jshell",
   "mimetype": "text/x-java-source",
   "name": "Java",
   "pygments_lexer": "java",
   "version": "11.0.8+10-post-Ubuntu-0ubuntu118.04.1"
  }
 },
 "nbformat": 4,
 "nbformat_minor": 4
}
